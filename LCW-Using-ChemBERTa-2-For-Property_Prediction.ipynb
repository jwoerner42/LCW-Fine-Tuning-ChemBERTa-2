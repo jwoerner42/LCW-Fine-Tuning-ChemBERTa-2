{
 "cells": [
  {
   "cell_type": "code",
   "execution_count": 1,
   "id": "e4fd208b-665e-4d83-861c-3c974f9a5ba4",
   "metadata": {},
   "outputs": [],
   "source": [
    "# Released under MIT License\n",
    "#\n",
    "# Copyright (c) 2023 Andrew SID Lang, Oral Roberts University, U.S.A.\n",
    "#\n",
    "# Copyright (c) 2023 Jan HR Woerner, Oral Roberts University, U.S.A.\n",
    "#\n",
    "# Copyright (c) 2023 Wei-Khiong (Wyatt) Chong, Advent Polytech Co., Ltd, Taiwan.\n",
    "#\n",
    "# Permission is hereby granted, free of charge, to any person obtaining a copy of this software and associated\n",
    "# documentation files (the \"Software\"), to deal in the Software without restriction, including without limitation the\n",
    "# rights to use, copy, modify, merge, publish, distribute, sublicense, and/or sell copies of the Software, and to\n",
    "# permit persons to whom the Software is furnished to do so, subject to the following conditions:\n",
    "#\n",
    "# The above copyright notice and this permission notice shall be included in all copies or substantial portions of the\n",
    "# Software.\n",
    "#\n",
    "# THE SOFTWARE IS PROVIDED \"AS IS\", WITHOUT WARRANTY OF ANY KIND, EXPRESS OR IMPLIED, INCLUDING BUT NOT LIMITED TO\n",
    "# THE WARRANTIES OF MERCHANTABILITY, FITNESS FOR A PARTICULAR PURPOSE AND NONINFRINGEMENT. IN NO EVENT SHALL THE AUTHORS\n",
    "# OR COPYRIGHT HOLDERS BE LIABLE FOR ANY CLAIM, DAMAGES OR OTHER LIABILITY, WHETHER IN AN ACTION OF CONTRACT, TORT OR\n",
    "# OTHERWISE, ARISING FROM, OUT OF OR IN CONNECTION WITH THE SOFTWARE OR THE USE OR OTHER DEALINGS IN THE SOFTWARE.\n",
    "\n",
    "import torch\n",
    "from torch.utils.data import Dataset\n",
    "from transformers import AutoConfig, AutoTokenizer, AutoModelForSequenceClassification, Trainer, TrainingArguments\n",
    "import pandas as pd\n",
    "import warnings\n",
    "warnings.filterwarnings(\"ignore\", message=\"Was asked to gather along dimension 0, but all input tensors were scalars\")"
   ]
  },
  {
   "cell_type": "code",
   "execution_count": 2,
   "id": "948c5fef-6380-4fd2-b82d-3cb5c0b7d774",
   "metadata": {},
   "outputs": [],
   "source": [
    "class Input(Dataset):\n",
    "    def __init__(self, i_data, i_tokenizer, i_max_length):\n",
    "        self.data = i_data\n",
    "        self.tokenizer = i_tokenizer\n",
    "        self.max_length = i_max_length\n",
    "\n",
    "    def __len__(self):\n",
    "        return len(self.data)\n",
    "\n",
    "    def __getitem__(self, idx):\n",
    "        i_smiles = self.data.iloc[idx][\"Standardized_SMILES\"]\n",
    "        i_inputs = self.tokenizer(i_smiles, return_tensors=\"pt\", padding='max_length', truncation=True, max_length=self.max_length)\n",
    "        i_inputs[\"input_ids\"] = i_inputs[\"input_ids\"].squeeze(0)\n",
    "        i_inputs[\"attention_mask\"] = i_inputs[\"attention_mask\"].squeeze(0)\n",
    "        if \"token_type_ids\" in i_inputs:\n",
    "            i_inputs[\"token_type_ids\"] = i_inputs[\"token_type_ids\"].squeeze(0)\n",
    "        i_inputs[\"labels\"] = torch.tensor(self.data.iloc[idx][\"median_WS\"], dtype=torch.float).unsqueeze(0)\n",
    "        return i_inputs"
   ]
  },
  {
   "cell_type": "code",
   "execution_count": 3,
   "id": "10d8698a-096a-4e15-b454-2f25a4a19dc3",
   "metadata": {},
   "outputs": [],
   "source": [
    "# Read in solubility data\n",
    "train_data = pd.read_csv('aqua_train.csv')\n",
    "test_data = pd.read_csv('aqua_test.csv')\n",
    "\n",
    "# pick out columns\n",
    "data = train_data[['Standardized_SMILES', 'median_WS']]\n",
    "test = test_data[['Standardized_SMILES', 'median_WS']]"
   ]
  },
  {
   "cell_type": "code",
   "execution_count": 4,
   "id": "f290f56e-2ea6-45bc-90b7-cbe705dde78b",
   "metadata": {},
   "outputs": [
    {
     "name": "stderr",
     "output_type": "stream",
     "text": [
      "Some weights of the model checkpoint at DeepChem/ChemBERTa-77M-MTR were not used when initializing RobertaForSequenceClassification: ['regression.out_proj.bias', 'regression.dense.bias', 'regression.dense.weight', 'norm_std', 'regression.out_proj.weight', 'norm_mean']\n",
      "- This IS expected if you are initializing RobertaForSequenceClassification from the checkpoint of a model trained on another task or with another architecture (e.g. initializing a BertForSequenceClassification model from a BertForPreTraining model).\n",
      "- This IS NOT expected if you are initializing RobertaForSequenceClassification from the checkpoint of a model that you expect to be exactly identical (initializing a BertForSequenceClassification model from a BertForSequenceClassification model).\n",
      "Some weights of RobertaForSequenceClassification were not initialized from the model checkpoint at DeepChem/ChemBERTa-77M-MTR and are newly initialized: ['classifier.dense.bias', 'classifier.out_proj.bias', 'classifier.dense.weight', 'classifier.out_proj.weight']\n",
      "You should probably TRAIN this model on a down-stream task to be able to use it for predictions and inference.\n"
     ]
    },
    {
     "name": "stdout",
     "output_type": "stream",
     "text": [
      "Using GPU.\n"
     ]
    },
    {
     "data": {
      "text/plain": [
       "RobertaForSequenceClassification(\n",
       "  (roberta): RobertaModel(\n",
       "    (embeddings): RobertaEmbeddings(\n",
       "      (word_embeddings): Embedding(600, 384, padding_idx=1)\n",
       "      (position_embeddings): Embedding(515, 384, padding_idx=1)\n",
       "      (token_type_embeddings): Embedding(1, 384)\n",
       "      (LayerNorm): LayerNorm((384,), eps=1e-12, elementwise_affine=True)\n",
       "      (dropout): Dropout(p=0.144, inplace=False)\n",
       "    )\n",
       "    (encoder): RobertaEncoder(\n",
       "      (layer): ModuleList(\n",
       "        (0-2): 3 x RobertaLayer(\n",
       "          (attention): RobertaAttention(\n",
       "            (self): RobertaSelfAttention(\n",
       "              (query): Linear(in_features=384, out_features=384, bias=True)\n",
       "              (key): Linear(in_features=384, out_features=384, bias=True)\n",
       "              (value): Linear(in_features=384, out_features=384, bias=True)\n",
       "              (dropout): Dropout(p=0.109, inplace=False)\n",
       "            )\n",
       "            (output): RobertaSelfOutput(\n",
       "              (dense): Linear(in_features=384, out_features=384, bias=True)\n",
       "              (LayerNorm): LayerNorm((384,), eps=1e-12, elementwise_affine=True)\n",
       "              (dropout): Dropout(p=0.144, inplace=False)\n",
       "            )\n",
       "          )\n",
       "          (intermediate): RobertaIntermediate(\n",
       "            (dense): Linear(in_features=384, out_features=464, bias=True)\n",
       "            (intermediate_act_fn): GELUActivation()\n",
       "          )\n",
       "          (output): RobertaOutput(\n",
       "            (dense): Linear(in_features=464, out_features=384, bias=True)\n",
       "            (LayerNorm): LayerNorm((384,), eps=1e-12, elementwise_affine=True)\n",
       "            (dropout): Dropout(p=0.144, inplace=False)\n",
       "          )\n",
       "        )\n",
       "      )\n",
       "    )\n",
       "  )\n",
       "  (classifier): RobertaClassificationHead(\n",
       "    (dense): Linear(in_features=384, out_features=384, bias=True)\n",
       "    (dropout): Dropout(p=0.144, inplace=False)\n",
       "    (out_proj): Linear(in_features=384, out_features=1, bias=True)\n",
       "  )\n",
       ")"
      ]
     },
     "execution_count": 4,
     "metadata": {},
     "output_type": "execute_result"
    }
   ],
   "source": [
    "# Load a pretrained transformer model and tokenizer\n",
    "model_name = \"DeepChem/ChemBERTa-77M-MTR\"\n",
    "tokenizer = AutoTokenizer.from_pretrained(model_name)\n",
    "config = AutoConfig.from_pretrained(model_name)\n",
    "config.num_hidden_layers += 1\n",
    "model = AutoModelForSequenceClassification.from_pretrained(model_name, num_labels=1)\n",
    "\n",
    "#see if GPU\n",
    "if torch.cuda.is_available():       \n",
    "    device = torch.device(\"cuda\")\n",
    "    print(\"Using GPU.\")\n",
    "else:\n",
    "    print(\"No GPU available, using the CPU instead.\")\n",
    "    device = torch.device(\"cpu\")\n",
    "# move model to the device\n",
    "model.to(device) "
   ]
  },
  {
   "cell_type": "code",
   "execution_count": 5,
   "id": "513419d0-426e-4fcd-869e-7cec0f16e078",
   "metadata": {},
   "outputs": [
    {
     "data": {
      "text/html": [
       "\n",
       "    <div>\n",
       "      \n",
       "      <progress value='2300' max='2300' style='width:300px; height:20px; vertical-align: middle;'></progress>\n",
       "      [2300/2300 09:37, Epoch 100/100]\n",
       "    </div>\n",
       "    <table border=\"1\" class=\"dataframe\">\n",
       "  <thead>\n",
       " <tr style=\"text-align: left;\">\n",
       "      <th>Step</th>\n",
       "      <th>Training Loss</th>\n",
       "    </tr>\n",
       "  </thead>\n",
       "  <tbody>\n",
       "    <tr>\n",
       "      <td>100</td>\n",
       "      <td>6.768000</td>\n",
       "    </tr>\n",
       "    <tr>\n",
       "      <td>200</td>\n",
       "      <td>1.259400</td>\n",
       "    </tr>\n",
       "    <tr>\n",
       "      <td>300</td>\n",
       "      <td>1.048200</td>\n",
       "    </tr>\n",
       "    <tr>\n",
       "      <td>400</td>\n",
       "      <td>0.960900</td>\n",
       "    </tr>\n",
       "    <tr>\n",
       "      <td>500</td>\n",
       "      <td>0.910400</td>\n",
       "    </tr>\n",
       "    <tr>\n",
       "      <td>600</td>\n",
       "      <td>0.857300</td>\n",
       "    </tr>\n",
       "    <tr>\n",
       "      <td>700</td>\n",
       "      <td>0.819500</td>\n",
       "    </tr>\n",
       "    <tr>\n",
       "      <td>800</td>\n",
       "      <td>0.794000</td>\n",
       "    </tr>\n",
       "    <tr>\n",
       "      <td>900</td>\n",
       "      <td>0.781700</td>\n",
       "    </tr>\n",
       "    <tr>\n",
       "      <td>1000</td>\n",
       "      <td>0.757900</td>\n",
       "    </tr>\n",
       "    <tr>\n",
       "      <td>1100</td>\n",
       "      <td>0.744500</td>\n",
       "    </tr>\n",
       "    <tr>\n",
       "      <td>1200</td>\n",
       "      <td>0.724800</td>\n",
       "    </tr>\n",
       "    <tr>\n",
       "      <td>1300</td>\n",
       "      <td>0.711800</td>\n",
       "    </tr>\n",
       "    <tr>\n",
       "      <td>1400</td>\n",
       "      <td>0.708500</td>\n",
       "    </tr>\n",
       "    <tr>\n",
       "      <td>1500</td>\n",
       "      <td>0.701500</td>\n",
       "    </tr>\n",
       "    <tr>\n",
       "      <td>1600</td>\n",
       "      <td>0.684800</td>\n",
       "    </tr>\n",
       "    <tr>\n",
       "      <td>1700</td>\n",
       "      <td>0.681700</td>\n",
       "    </tr>\n",
       "    <tr>\n",
       "      <td>1800</td>\n",
       "      <td>0.671000</td>\n",
       "    </tr>\n",
       "    <tr>\n",
       "      <td>1900</td>\n",
       "      <td>0.661500</td>\n",
       "    </tr>\n",
       "    <tr>\n",
       "      <td>2000</td>\n",
       "      <td>0.660700</td>\n",
       "    </tr>\n",
       "    <tr>\n",
       "      <td>2100</td>\n",
       "      <td>0.657900</td>\n",
       "    </tr>\n",
       "    <tr>\n",
       "      <td>2200</td>\n",
       "      <td>0.660900</td>\n",
       "    </tr>\n",
       "    <tr>\n",
       "      <td>2300</td>\n",
       "      <td>0.656800</td>\n",
       "    </tr>\n",
       "  </tbody>\n",
       "</table><p>"
      ],
      "text/plain": [
       "<IPython.core.display.HTML object>"
      ]
     },
     "metadata": {},
     "output_type": "display_data"
    }
   ],
   "source": [
    "# max length of SMILES over both sets\n",
    "max_length = 195\n",
    "# Prepare the dataset for training\n",
    "train_dataset = Input(data, tokenizer,max_length)\n",
    "\n",
    "# Set up training arguments\n",
    "training_args = TrainingArguments(\n",
    "    output_dir=\"./output\",\n",
    "    num_train_epochs=100, # Number of training epochs\n",
    "    per_device_train_batch_size=86, # Batch size\n",
    "    logging_steps=100,  # Log training metrics every 100 steps\n",
    "    optim=\"adamw_torch\", # switch optimizer to avoid warning\n",
    "    seed=123, # Set a random seed for reproducibility\n",
    ")\n",
    "\n",
    "    \n",
    "# Train the model\n",
    "trainer = Trainer(model=model, args=training_args, train_dataset=train_dataset,)\n",
    "trainer.train() \n",
    "trainer.save_model(\"./output\") # save model to output folder"
   ]
  },
  {
   "cell_type": "code",
   "execution_count": 10,
   "id": "d3ad4bb7-baa3-49f1-a041-7d27159a0cb7",
   "metadata": {},
   "outputs": [],
   "source": [
    "from transformers import pipeline\n",
    "# Create a prediction pipeline\n",
    "\n",
    "predictor = pipeline(\"text-classification\", model=model, tokenizer=tokenizer)\n",
    "\n",
    "# Prepare new SMILES strings for prediction\n",
    "test_smiles = test['Standardized_SMILES']\n",
    "\n",
    "# Predict properties for new SMILES strings\n",
    "predictions = []\n",
    "for smiles in test_smiles:\n",
    "    inputs = tokenizer(smiles, return_tensors=\"pt\", padding='max_length', truncation=True, max_length=195).to(device)\n",
    "    with torch.no_grad():\n",
    "        outputs = model(**inputs)\n",
    "    predicted_property = outputs.logits.squeeze().item()\n",
    "    predictions.append(predicted_property)"
   ]
  },
  {
   "cell_type": "code",
   "execution_count": 11,
   "id": "4eea13b3-f35f-4db9-a1a9-61f2d16faceb",
   "metadata": {},
   "outputs": [
    {
     "name": "stdout",
     "output_type": "stream",
     "text": [
      "TEST SET\n",
      "N: 2552\n",
      "R2: 0.8054362061353308\n",
      "Root Mean Square Error: 1.0125407666739181\n",
      "Mean Absolute Error: 0.716880692248506\n",
      "Spearman correlation: 0.8995523590904071\n",
      "p-value: 0.0\n"
     ]
    },
    {
     "data": {
      "image/png": "[encoded data removed]",
      "text/plain": [
       "<Figure size 432x288 with 1 Axes>"
      ]
     },
     "metadata": {
      "needs_background": "light"
     },
     "output_type": "display_data"
    }
   ],
   "source": [
    "from sklearn.metrics import mean_squared_error\n",
    "from sklearn.metrics import r2_score\n",
    "from sklearn.metrics import mean_absolute_error\n",
    "\n",
    "r_mse = mean_squared_error(test[\"median_WS\"], predictions, squared=False)\n",
    "r2 = r2_score(test[\"median_WS\"], predictions)\n",
    "mae = mean_absolute_error(test[\"median_WS\"], predictions)\n",
    "\n",
    "print(\"TEST SET\")\n",
    "print(\"N:\", len(test[\"median_WS\"]))\n",
    "print(\"R2:\", r2)\n",
    "print(\"Root Mean Square Error:\", r_mse)\n",
    "print(\"Mean Absolute Error:\", mae)\n",
    "\n",
    "from scipy.stats import spearmanr\n",
    "\n",
    "# assume test and predictions are two arrays of the same length\n",
    "correlation, p_value = spearmanr(test[\"median_WS\"], predictions)\n",
    "\n",
    "print(\"Spearman correlation:\", correlation)\n",
    "print(\"p-value:\", p_value)\n",
    "\n",
    "import matplotlib.pyplot as plt\n",
    "\n",
    "plt.scatter(test[\"median_WS\"], predictions)\n",
    "plt.xlabel(\"Test_Set Median Water Solubility\")\n",
    "plt.ylabel(\"Predictions\")\n",
    "plt.title(\"Scatter Plot of Test_Set Median Water Solubility vs Predictions\")\n",
    "plt.show()"
   ]
  },
  {
   "cell_type": "code",
   "execution_count": 12,
   "id": "36823b0f-4d30-4536-a182-7041c3e56642",
   "metadata": {},
   "outputs": [],
   "source": [
    "# Prepare new SMILES strings for prediction\n",
    "train_smiles = data['Standardized_SMILES']\n",
    "\n",
    "# Predict properties for new SMILES strings\n",
    "train_predictions = []\n",
    "for smiles in train_smiles:\n",
    "    inputs = tokenizer(smiles, return_tensors=\"pt\", padding='max_length', truncation=True, max_length=195).to(device) \n",
    "    with torch.no_grad():\n",
    "        outputs = model(**inputs)\n",
    "    predicted_property = outputs.logits.squeeze().item()\n",
    "    train_predictions.append(predicted_property)"
   ]
  },
  {
   "cell_type": "code",
   "execution_count": 13,
   "id": "b9115caa-d8d9-44e9-9abe-941d082f6ce2",
   "metadata": {},
   "outputs": [
    {
     "name": "stdout",
     "output_type": "stream",
     "text": [
      "TRAINING SET\n",
      "N: 7655\n",
      "R2: 0.871320792914473\n",
      "Root Mean Square Error: 0.8098064745023944\n",
      "Mean Absolute Error: 0.595570092893068\n",
      "Spearman correlation: 0.9277674381474756\n",
      "p-value: 0.0\n"
     ]
    },
    {
     "data": {
      "image/png": "[encoded data removed]",
      "text/plain": [
       "<Figure size 432x288 with 1 Axes>"
      ]
     },
     "metadata": {
      "needs_background": "light"
     },
     "output_type": "display_data"
    }
   ],
   "source": [
    "rmse = mean_squared_error(data[\"median_WS\"], train_predictions, squared=False)\n",
    "r2 = r2_score(data[\"median_WS\"], train_predictions)\n",
    "mae = mean_absolute_error(data[\"median_WS\"], train_predictions)\n",
    "\n",
    "print(\"TRAINING SET\")\n",
    "print(\"N:\", len(data[\"median_WS\"]))\n",
    "print(\"R2:\", r2)\n",
    "print(\"Root Mean Square Error:\", rmse)\n",
    "print(\"Mean Absolute Error:\", mae)\n",
    "\n",
    "# assume test and predictions are two arrays of the same length\n",
    "correlation, p_value = spearmanr(data[\"median_WS\"], train_predictions)\n",
    "\n",
    "print(\"Spearman correlation:\", correlation)\n",
    "print(\"p-value:\", p_value)\n",
    "\n",
    "import matplotlib.pyplot as plt\n",
    "\n",
    "plt.scatter(data[\"median_WS\"], train_predictions)\n",
    "plt.xlabel(\"Training_Set Median Water Solubility\")\n",
    "plt.ylabel(\"Predictions\")\n",
    "plt.title(\"Scatter Plot of Training_Set Median Water Solubility vs Predictions\")\n",
    "plt.show()"
   ]
  },
  {
   "cell_type": "code",
   "execution_count": null,
   "id": "e4544830-cc4f-4eee-a692-cfd99cd9072e",
   "metadata": {},
   "outputs": [],
   "source": []
  }
 ],
 "metadata": {
  "kernelspec": {
   "display_name": "Python 3 (ipykernel)",
   "language": "python",
   "name": "python3"
  },
  "language_info": {
   "codemirror_mode": {
    "name": "ipython",
    "version": 3
   },
   "file_extension": ".py",
   "mimetype": "text/x-python",
   "name": "python",
   "nbconvert_exporter": "python",
   "pygments_lexer": "ipython3",
   "version": "3.9.5"
  }
 },
 "nbformat": 4,
 "nbformat_minor": 5
}
